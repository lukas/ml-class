{
 "cells": [
  {
   "cell_type": "code",
   "execution_count": 2,
   "metadata": {},
   "outputs": [
    {
     "name": "stdout",
     "output_type": "stream",
     "text": [
      "Epoch 1/10\n",
      "60000/60000 [==============================] - 27s - loss: 0.2581 - acc: 0.9229    \n",
      "Epoch 2/10\n",
      "60000/60000 [==============================] - 28s - loss: 0.1106 - acc: 0.9663    \n",
      "Epoch 3/10\n",
      "60000/60000 [==============================] - 27s - loss: 0.0814 - acc: 0.9752    \n",
      "Epoch 4/10\n",
      "60000/60000 [==============================] - 27s - loss: 0.0665 - acc: 0.9793    \n",
      "Epoch 5/10\n",
      "60000/60000 [==============================] - 27s - loss: 0.0576 - acc: 0.9818    \n",
      "Epoch 6/10\n",
      "60000/60000 [==============================] - 26s - loss: 0.0503 - acc: 0.9840    \n",
      "Epoch 7/10\n",
      "60000/60000 [==============================] - 26s - loss: 0.0445 - acc: 0.9856    \n",
      "Epoch 8/10\n",
      "60000/60000 [==============================] - 29s - loss: 0.0409 - acc: 0.9863    \n",
      "Epoch 9/10\n",
      "60000/60000 [==============================] - 25s - loss: 0.0372 - acc: 0.9878    \n",
      "Epoch 10/10\n",
      "60000/60000 [==============================] - 28s - loss: 0.0342 - acc: 0.9884    \n"
     ]
    },
    {
     "data": {
      "text/plain": [
       "<keras.callbacks.History at 0x12bb8db50>"
      ]
     },
     "execution_count": 2,
     "metadata": {},
     "output_type": "execute_result"
    }
   ],
   "source": [
    "from keras.datasets import mnist\n",
    "from keras.models import Sequential\n",
    "from keras.layers import Conv2D, MaxPooling2D, Dropout, Dense, Flatten\n",
    "from keras.utils import np_utils\n",
    "\n",
    "(X_train, y_train), (X_test, y_test) = mnist.load_data()\n",
    "\n",
    "img_width=28\n",
    "img_height=28\n",
    "\n",
    "X_train = X_train.astype('float32')\n",
    "X_train /= 255.\n",
    "X_test = X_test.astype('float32')\n",
    "X_test /= 255.\n",
    "\n",
    "#reshape input data\n",
    "X_train = X_train.reshape(X_train.shape[0], img_width, img_height, 1)\n",
    "X_test = X_test.reshape(X_test.shape[0], img_width, img_height, 1)\n",
    "\n",
    "# one hot encode outputs\n",
    "y_train = np_utils.to_categorical(y_train)\n",
    "y_test = np_utils.to_categorical(y_test)\n",
    "num_classes = y_test.shape[1]\n",
    "\n",
    "# build model\n",
    "\n",
    "model = Sequential()\n",
    "\n",
    "model.add(Conv2D(8, (5, 5), input_shape=(img_width, img_height,1), activation='relu'))\n",
    "model.add(MaxPooling2D(pool_size=(2, 2)))\n",
    "model.add(Dropout(0.2))\n",
    "model.add(Flatten())\n",
    "model.add(Dense(32, activation='relu'))\n",
    "model.add(Dense(num_classes, activation='softmax'))\n",
    "\n",
    "model.compile(loss='categorical_crossentropy', optimizer='adam', metrics=['accuracy'])\n",
    "model.fit(X_train, y_train)\n"
   ]
  },
  {
   "cell_type": "code",
   "execution_count": null,
   "metadata": {
    "collapsed": true
   },
   "outputs": [],
   "source": [
    "# Doing a Prediction \n",
    "pred = model.predict(X_test)"
   ]
  },
  {
   "cell_type": "code",
   "execution_count": 5,
   "metadata": {},
   "outputs": [
    {
     "name": "stdout",
     "output_type": "stream",
     "text": [
      "                            \n",
      "                            \n",
      "                            \n",
      "          .......           \n",
      "         .........          \n",
      "        ..........          \n",
      "       ...... ....          \n",
      "       ....   ....          \n",
      "        ..    ....          \n",
      "             .....          \n",
      "            .....           \n",
      "            ....            \n",
      "           .....            \n",
      "          .....             \n",
      "          ....              \n",
      "         .....              \n",
      "        .....               \n",
      "        .....               \n",
      "        ....                \n",
      "        ......... ......... \n",
      "        ................... \n",
      "        ................... \n",
      "         ............       \n",
      "                            \n",
      "                            \n",
      "                            \n",
      "                            \n",
      "                            \n",
      "\n"
     ]
    }
   ],
   "source": [
    "# The actual raw input that was sent for prediction\n",
    "digit = X_test[1]\n",
    "str = \"\"\n",
    "for i in range(digit.shape[0]):\n",
    "    for j in range(digit.shape[1]):\n",
    "        if digit[i][j] == 0:\n",
    "            str += \" \"\n",
    "        elif digit[i][j] < 128:\n",
    "            str += \".\"\n",
    "        else:\n",
    "            str += \"X\"\n",
    "    str += \"\\n\"\n",
    "\n",
    "print(str)"
   ]
  },
  {
   "cell_type": "code",
   "execution_count": 6,
   "metadata": {},
   "outputs": [
    {
     "name": "stdout",
     "output_type": "stream",
     "text": [
      "[  4.98868147e-08   3.28395186e-06   9.99996066e-01   3.13380433e-08\n",
      "   7.55492110e-12   1.46447455e-11   4.84628686e-07   8.07539907e-13\n",
      "   1.05522403e-07   5.27212302e-12]\n"
     ]
    }
   ],
   "source": [
    "# The actual accuracy is the max number in this matrix\n",
    "#   Raw: 9.99996066e-01 \n",
    "#   Simplieid: 99.999%\n",
    "#     \n",
    "print(pred[1])"
   ]
  }
 ],
 "metadata": {
  "kernelspec": {
   "display_name": "Python 2",
   "language": "python",
   "name": "python2"
  },
  "language_info": {
   "codemirror_mode": {
    "name": "ipython",
    "version": 2
   },
   "file_extension": ".py",
   "mimetype": "text/x-python",
   "name": "python",
   "nbconvert_exporter": "python",
   "pygments_lexer": "ipython2",
   "version": "2.7.10"
  }
 },
 "nbformat": 4,
 "nbformat_minor": 2
}
