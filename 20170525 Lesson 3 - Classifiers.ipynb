{
 "cells": [
  {
   "cell_type": "code",
   "execution_count": 12,
   "metadata": {},
   "outputs": [
    {
     "name": "stdout",
     "output_type": "stream",
     "text": [
      "['Positive emotion']\n"
     ]
    }
   ],
   "source": [
    "import pandas as pd\n",
    "import numpy as np\n",
    "\n",
    "# Get a pandas DataFrame object of all the data in the csv file:\n",
    "df = pd.read_csv('tweets.csv')\n",
    "\n",
    "# Get pandas Series object of the \"tweet text\" column:\n",
    "text = df['tweet_text']\n",
    "\n",
    "# Get pandas Series object of the \"emotion\" column:\n",
    "target = df['is_there_an_emotion_directed_at_a_brand_or_product']\n",
    "\n",
    "# The rows of  the \"emotion\" column have one of three strings:\n",
    "# 'Positive emotion'\n",
    "# 'Negative emotion'\n",
    "# 'No emotion toward brand or product'\n",
    "\n",
    "# Remove the blank rows from the series:\n",
    "target = target[pd.notnull(text)]\n",
    "text = text[pd.notnull(text)]\n",
    "\n",
    "# Perform feature extraction:\n",
    "from sklearn.feature_extraction.text import CountVectorizer\n",
    "count_vect = CountVectorizer()\n",
    "count_vect.fit(text)\n",
    "counts = count_vect.transform(text)\n",
    "\n",
    "# Train with this data with a Naive Bayes classifier:\n",
    "from sklearn.naive_bayes import MultinomialNB\n",
    "nb = MultinomialNB()\n",
    "nb.fit(counts, target)\n",
    "\n",
    "#Try the classifier\n",
    "print(nb.predict(count_vect.transform(['i really love to hate my iphone'])))\n",
    "\n",
    "# See what the classifier predicts for some new tweets:\n",
    "#for tweet in ('I love my iphone!!!', 'iphone costs too much!!!', 'the iphone is not good', 'I like turtles'):\n",
    "#  print('Tweet: ' + tweet)\n",
    "#  print('Prediction: ' + str(nb.predict(count_vect.transform([tweet]))))\n",
    "#  print('\\n')\n"
   ]
  },
  {
   "cell_type": "code",
   "execution_count": 16,
   "metadata": {},
   "outputs": [
    {
     "name": "stdout",
     "output_type": "stream",
     "text": [
      "['Positive emotion']\n"
     ]
    }
   ],
   "source": []
  },
  {
   "cell_type": "code",
   "execution_count": null,
   "metadata": {
    "collapsed": true
   },
   "outputs": [],
   "source": []
  }
 ],
 "metadata": {
  "kernelspec": {
   "display_name": "Python 2",
   "language": "python",
   "name": "python2"
  },
  "language_info": {
   "codemirror_mode": {
    "name": "ipython",
    "version": 2
   },
   "file_extension": ".py",
   "mimetype": "text/x-python",
   "name": "python",
   "nbconvert_exporter": "python",
   "pygments_lexer": "ipython2",
   "version": "2.7.10"
  }
 },
 "nbformat": 4,
 "nbformat_minor": 2
}
