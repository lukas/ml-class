{
 "cells": [
  {
   "cell_type": "code",
   "execution_count": null,
   "metadata": {
    "collapsed": true
   },
   "outputs": [],
   "source": [
    "import pandas as pd\n",
    "import numpy as np\n",
    "\n",
    "\n",
    "# Get a pandas DataFrame object of all the data in the csv file:\n",
    "df = pd.read_csv('tweets.csv')\n",
    "\n",
    "# Get pandas Series object of the \"tweet text\" column:\n",
    "text = df['tweet_text']\n",
    "\n",
    "# Get pandas Series object of the \"emotion\" column:\n",
    "target = df['is_there_an_emotion_directed_at_a_brand_or_product']\n",
    "\n",
    "# The rows of  the \"emotion\" column have one of three strings:\n",
    "# 'Positive emotion'\n",
    "# 'Negative emotion'\n",
    "# 'No emotion toward brand or product'\n",
    "\n",
    "# Remove the blank rows from the series:\n",
    "target = target[pd.notnull(text)]\n",
    "text = text[pd.notnull(text)]\n",
    "\n",
    "# Perform feature extraction:\n",
    "from sklearn.feature_extraction.text import CountVectorizer\n",
    "count_vect = CountVectorizer()\n",
    "count_vect.fit(text)\n",
    "counts = count_vect.transform(text)"
   ]
  },
  {
   "cell_type": "code",
   "execution_count": 17,
   "metadata": {},
   "outputs": [
    {
     "name": "stdout",
     "output_type": "stream",
     "text": [
      "# of correct predictions: 7229\n",
      "# of incorrect predictions: 1863\n",
      "Percent correct: 79.5094588649\n"
     ]
    }
   ],
   "source": [
    "# BAD MISTAKE: DO NOT USE YOUR TRAINING DATA AS TESTING DATA!!!\n",
    "#   We are still gettingonly close to 80% accuracy even though we are predicting using training data.\n",
    "#   the reason we are not getting 100% is because the machine is trying to generalize\n",
    "\n",
    "# Train with this data with a Naive Bayes classifier:\n",
    "from sklearn.naive_bayes import MultinomialNB\n",
    "nb = MultinomialNB()\n",
    "nb.fit(counts, target)\n",
    "\n",
    "# See what the classifier predicts for some new tweets:\n",
    "predictions = nb.predict(counts)\n",
    "\n",
    "correct_predictions = sum(predictions == target)\n",
    "incorrect_predictions = 9092 - correct_predictions  # (there are 9,092 tweets in the csv)\n",
    "print('# of correct predictions: ' + str(correct_predictions))\n",
    "print('# of incorrect predictions: ' + str(incorrect_predictions))\n",
    "print('Percent correct: ' + str(100.0 * correct_predictions / (correct_predictions + incorrect_predictions)))"
   ]
  },
  {
   "cell_type": "code",
   "execution_count": 18,
   "metadata": {},
   "outputs": [
    {
     "name": "stdout",
     "output_type": "stream",
     "text": [
      "# of correct predictions: 2053\n",
      "# of incorrect predictions: 1039\n",
      "Percent correct: 66.3971539457\n"
     ]
    }
   ],
   "source": [
    "# Train with this data with a Naive Bayes classifier:\n",
    "from sklearn.naive_bayes import MultinomialNB\n",
    "nb = MultinomialNB()\n",
    "nb.fit(counts[0:6000], target[0:6000])\n",
    "\n",
    "# See what the classifier predicts for some new tweets:\n",
    "predictions = nb.predict(counts[6000:9092])\n",
    "correct_predictions = sum(predictions == target[6000:9092])\n",
    "incorrect_predictions = (9092 - 6000) - correct_predictions\n",
    "\n",
    "print('# of correct predictions: ' + str(correct_predictions))\n",
    "print('# of incorrect predictions: ' + str(incorrect_predictions))\n",
    "print('Percent correct: ' + str(100.0 * correct_predictions / (correct_predictions + incorrect_predictions)))"
   ]
  },
  {
   "cell_type": "code",
   "execution_count": 19,
   "metadata": {},
   "outputs": [
    {
     "name": "stdout",
     "output_type": "stream",
     "text": [
      "# of correct predictions: 2411\n",
      "# of incorrect predictions: 681\n",
      "Percent correct: 77.9754204398\n"
     ]
    }
   ],
   "source": [
    "# Using another classifier type\n",
    "from sklearn.linear_model import SGDClassifier\n",
    "clf = SGDClassifier()\n",
    "clf.fit(counts, target)\n",
    "\n",
    "\n",
    "# See what the classifier predicts for some new tweets:\n",
    "predictions = clf.predict(counts[6000:9092])\n",
    "\n",
    "correct_predictions = sum(predictions == target[6000:9092])\n",
    "incorrect_predictions = (9092 - 6000) - correct_predictions\n",
    "print('# of correct predictions: ' + str(correct_predictions))\n",
    "print('# of incorrect predictions: ' + str(incorrect_predictions))\n",
    "print('Percent correct: ' + str(100.0 * correct_predictions / (correct_predictions + incorrect_predictions)))"
   ]
  },
  {
   "cell_type": "code",
   "execution_count": 7,
   "metadata": {},
   "outputs": [
    {
     "name": "stdout",
     "output_type": "stream",
     "text": [
      "# of correct predictions: 1890\n",
      "# of incorrect predictions: 1202\n",
      "Percent correct: 61.1254851229\n"
     ]
    }
   ],
   "source": [
    "# Just simply guessing\n",
    "from sklearn.dummy import DummyClassifier\n",
    "nb = DummyClassifier(strategy='most_frequent')\n",
    "\n",
    "# (Tweets 0 to 5999 are used for training data)\n",
    "nb.fit(counts[0:6000], target[0:6000])\n",
    "\n",
    "# See what the classifier predicts for some new tweets:\n",
    "# (Tweets 6000 to 9091 are used for testing)\n",
    "predictions = nb.predict(counts[6000:9092])\n",
    "correct_predictions = sum(predictions == target[6000:9092])\n",
    "incorrect_predictions = (9092 - 6000) - correct_predictions\n",
    "print('# of correct predictions: ' + str(correct_predictions))\n",
    "print('# of incorrect predictions: ' + str(incorrect_predictions))\n",
    "print('Percent correct: ' + str(100.0 * correct_predictions / (correct_predictions + incorrect_predictions)))\n",
    "\n"
   ]
  },
  {
   "cell_type": "code",
   "execution_count": null,
   "metadata": {
    "collapsed": true
   },
   "outputs": [],
   "source": []
  }
 ],
 "metadata": {
  "kernelspec": {
   "display_name": "Python 2",
   "language": "python",
   "name": "python2"
  },
  "language_info": {
   "codemirror_mode": {
    "name": "ipython",
    "version": 2
   },
   "file_extension": ".py",
   "mimetype": "text/x-python",
   "name": "python",
   "nbconvert_exporter": "python",
   "pygments_lexer": "ipython2",
   "version": "2.7.10"
  }
 },
 "nbformat": 4,
 "nbformat_minor": 2
}
