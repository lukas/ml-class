{
 "cells": [
  {
   "cell_type": "code",
   "execution_count": null,
   "metadata": {
    "collapsed": true
   },
   "outputs": [],
   "source": [
    "import pandas as pd\n",
    "import numpy as np\n",
    "\n",
    "\n",
    "# Get a pandas DataFrame object of all the data in the csv file:\n",
    "df = pd.read_csv('tweets.csv')\n",
    "\n",
    "# Get pandas Series object of the \"tweet text\" column:\n",
    "text = df['tweet_text']\n",
    "\n",
    "# Get pandas Series object of the \"emotion\" column:\n",
    "target = df['is_there_an_emotion_directed_at_a_brand_or_product']\n",
    "\n",
    "# The rows of  the \"emotion\" column have one of three strings:\n",
    "# 'Positive emotion'\n",
    "# 'Negative emotion'\n",
    "# 'No emotion toward brand or product'\n",
    "\n",
    "# Remove the blank rows from the series:\n",
    "target = target[pd.notnull(text)]\n",
    "text = text[pd.notnull(text)]\n",
    "\n",
    "# Perform feature extraction:\n",
    "from sklearn.feature_extraction.text import CountVectorizer\n",
    "count_vect = CountVectorizer()\n",
    "count_vect.fit(text)\n",
    "counts = count_vect.transform(text)\n",
    "\n",
    "# Train with this data with a Naive Bayes classifier:\n",
    "from sklearn.naive_bayes import MultinomialNB\n",
    "\n",
    "nb = MultinomialNB()\n",
    "\n",
    "# (Tweets 0 to 5999 are used for training data)\n",
    "nb.fit(counts[0:6000], target[0:6000])\n",
    "\n",
    "# See what the classifier predicts for some new tweets:\n",
    "# (Tweets 6000 to 9091 are used for testing)\n",
    "predictions = nb.predict(counts[6000:9092])\n",
    "correct_predictions = sum(predictions == target[6000:9092])\n",
    "incorrect_predictions = (9092 - 6000) - correct_predictions\n",
    "print('# of correct predictions: ' + str(correct_predictions))\n",
    "print('# of incorrect predictions: ' + str(incorrect_predictions))\n",
    "print('Percent correct: ' + str(100.0 * correct_predictions / (correct_predictions + incorrect_predictions)))\n",
    "\n",
    "from sklearn.metrics import confusion_matrix\n",
    "## We're ignoring \"I can't tell\" here for simplicity\n",
    "label_list = ['Positive emotion', 'No emotion toward brand or product', 'Negative emotion'] \n",
    "cm = confusion_matrix(target[6000:9092], predictions, labels=label_list)"
   ]
  },
  {
   "cell_type": "code",
   "execution_count": 1,
   "metadata": {},
   "outputs": [
    {
     "name": "stdout",
     "output_type": "stream",
     "text": [
      "# of correct predictions: 2053\n",
      "# of incorrect predictions: 1039\n",
      "Percent correct: 66.3971539457\n",
      "Labels in data:\n",
      "['Positive emotion', 'No emotion toward brand or product', 'Negative emotion']\n",
      "Rows: actual labels, Columns: Predicted labels\n",
      "[[ 527  454    7]\n",
      " [ 362 1504   24]\n",
      " [  65   75   22]]\n"
     ]
    }
   ],
   "source": [
    "# Main challenge is we do not have enough Negative examples in this dataset\n",
    "print(\"Labels in data:\")\n",
    "print(label_list)\n",
    "print(\"Rows: actual labels, Columns: Predicted labels\")\n",
    "print(cm)"
   ]
  },
  {
   "cell_type": "code",
   "execution_count": null,
   "metadata": {
    "collapsed": true
   },
   "outputs": [],
   "source": []
  }
 ],
 "metadata": {
  "kernelspec": {
   "display_name": "Python 2",
   "language": "python",
   "name": "python2"
  },
  "language_info": {
   "codemirror_mode": {
    "name": "ipython",
    "version": 2
   },
   "file_extension": ".py",
   "mimetype": "text/x-python",
   "name": "python",
   "nbconvert_exporter": "python",
   "pygments_lexer": "ipython2",
   "version": "2.7.10"
  }
 },
 "nbformat": 4,
 "nbformat_minor": 2
}
