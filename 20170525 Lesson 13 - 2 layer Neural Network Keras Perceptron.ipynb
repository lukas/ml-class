{
 "cells": [
  {
   "cell_type": "code",
   "execution_count": 1,
   "metadata": {},
   "outputs": [
    {
     "name": "stderr",
     "output_type": "stream",
     "text": [
      "Using TensorFlow backend.\n"
     ]
    },
    {
     "name": "stdout",
     "output_type": "stream",
     "text": [
      "Train on 60000 samples, validate on 10000 samples\n",
      "Epoch 1/10\n",
      "60000/60000 [==============================] - 7s - loss: 0.3640 - acc: 0.8981 - val_loss: 0.2280 - val_acc: 0.9322\n",
      "Epoch 2/10\n",
      "60000/60000 [==============================] - 8s - loss: 0.1988 - acc: 0.9424 - val_loss: 0.1668 - val_acc: 0.9505\n",
      "Epoch 3/10\n",
      "60000/60000 [==============================] - 7s - loss: 0.1587 - acc: 0.9533 - val_loss: 0.1492 - val_acc: 0.9567\n",
      "Epoch 4/10\n",
      "60000/60000 [==============================] - 6s - loss: 0.1355 - acc: 0.9597 - val_loss: 0.1389 - val_acc: 0.9571\n",
      "Epoch 5/10\n",
      "60000/60000 [==============================] - 6s - loss: 0.1190 - acc: 0.9647 - val_loss: 0.1352 - val_acc: 0.9592\n",
      "Epoch 6/10\n",
      "60000/60000 [==============================] - 7s - loss: 0.1063 - acc: 0.9682 - val_loss: 0.1220 - val_acc: 0.9650\n",
      "Epoch 7/10\n",
      "60000/60000 [==============================] - 7s - loss: 0.0971 - acc: 0.9715 - val_loss: 0.1238 - val_acc: 0.9647\n",
      "Epoch 8/10\n",
      "60000/60000 [==============================] - 7s - loss: 0.0890 - acc: 0.9733 - val_loss: 0.1209 - val_acc: 0.9659\n",
      "Epoch 9/10\n",
      "60000/60000 [==============================] - 7s - loss: 0.0824 - acc: 0.9752 - val_loss: 0.1138 - val_acc: 0.9669\n",
      "Epoch 10/10\n",
      "60000/60000 [==============================] - 7s - loss: 0.0768 - acc: 0.9766 - val_loss: 0.1201 - val_acc: 0.9680\n"
     ]
    },
    {
     "data": {
      "text/plain": [
       "<keras.callbacks.History at 0x1264e6a90>"
      ]
     },
     "execution_count": 1,
     "metadata": {},
     "output_type": "execute_result"
    }
   ],
   "source": [
    "# Keras multi layer perceptron\n",
    "import numpy\n",
    "from keras.datasets import mnist\n",
    "from keras.models import Sequential\n",
    "from keras.layers import Dense\n",
    "from keras.layers import Flatten\n",
    "\n",
    "from keras.layers import Dropout\n",
    "from keras.utils import np_utils\n",
    "\n",
    "# load data\n",
    "(X_train, y_train), (X_test, y_test) = mnist.load_data()\n",
    "img_width = X_train.shape[1]\n",
    "img_height = X_train.shape[2]\n",
    "\n",
    "X_train = X_train.astype('float32')\n",
    "X_train /= 255.\n",
    "X_test = X_test.astype('float32')\n",
    "X_test /= 255.\n",
    "\n",
    "# one hot encode outputs\n",
    "y_train = np_utils.to_categorical(y_train)\n",
    "num_classes = y_train.shape[1]\n",
    "\n",
    "y_test = np_utils.to_categorical(y_test)\n",
    "\n",
    "# create model\n",
    "model=Sequential()\n",
    "model.add(Flatten(input_shape=(img_width,img_height)))\n",
    "\n",
    "# Trained with 30 layers\n",
    "#   used not because its good but because its fast\n",
    "model.add(Dense(30, activation='relu'))\n",
    "model.add(Dense(num_classes, activation='softmax'))\n",
    "model.compile(loss='categorical_crossentropy', optimizer='adam', metrics=['accuracy'])\n",
    "\n",
    "# Fit the model\n",
    "model.fit(X_train, y_train, validation_data=(X_test, y_test))\n"
   ]
  },
  {
   "cell_type": "code",
   "execution_count": 2,
   "metadata": {},
   "outputs": [
    {
     "name": "stdout",
     "output_type": "stream",
     "text": [
      "Train on 60000 samples, validate on 10000 samples\n",
      "Epoch 1/10\n",
      "60000/60000 [==============================] - 8s - loss: 0.5297 - acc: 0.8389 - val_loss: 0.2604 - val_acc: 0.9283\n",
      "Epoch 2/10\n",
      "60000/60000 [==============================] - 7s - loss: 0.3364 - acc: 0.8993 - val_loss: 0.2000 - val_acc: 0.9413\n",
      "Epoch 3/10\n",
      "60000/60000 [==============================] - 8s - loss: 0.2851 - acc: 0.9131 - val_loss: 0.1686 - val_acc: 0.9517\n",
      "Epoch 4/10\n",
      "60000/60000 [==============================] - 8s - loss: 0.2569 - acc: 0.9220 - val_loss: 0.1509 - val_acc: 0.9556\n",
      "Epoch 5/10\n",
      "60000/60000 [==============================] - 9s - loss: 0.2410 - acc: 0.9257 - val_loss: 0.1419 - val_acc: 0.9577\n",
      "Epoch 6/10\n",
      "60000/60000 [==============================] - 9s - loss: 0.2251 - acc: 0.9302 - val_loss: 0.1389 - val_acc: 0.9594\n",
      "Epoch 7/10\n",
      "60000/60000 [==============================] - 8s - loss: 0.2179 - acc: 0.9329 - val_loss: 0.1343 - val_acc: 0.9594\n",
      "Epoch 8/10\n",
      "60000/60000 [==============================] - 8s - loss: 0.2074 - acc: 0.9363 - val_loss: 0.1330 - val_acc: 0.9612\n",
      "Epoch 9/10\n",
      "60000/60000 [==============================] - 9s - loss: 0.2031 - acc: 0.9369 - val_loss: 0.1283 - val_acc: 0.9614\n",
      "Epoch 10/10\n",
      "60000/60000 [==============================] - 8s - loss: 0.1971 - acc: 0.9387 - val_loss: 0.1236 - val_acc: 0.9618\n"
     ]
    },
    {
     "data": {
      "text/plain": [
       "<keras.callbacks.History at 0x126aeb5d0>"
      ]
     },
     "execution_count": 2,
     "metadata": {},
     "output_type": "execute_result"
    }
   ],
   "source": [
    "# Increases validation accuracy when we increase the drop out - % of neurons that are allowed to get activated\n",
    "model=Sequential()\n",
    "model.add(Flatten(input_shape=(img_width,img_height)))\n",
    "model.add(Dropout(0.5))\n",
    "model.add(Dense(30, activation='relu'))\n",
    "model.add(Dense(num_classes, activation='softmax'))\n",
    "model.compile(loss='categorical_crossentropy', optimizer='adam', metrics=['accuracy'])\n",
    "\n",
    "# Fit the model\n",
    "model.fit(X_train, y_train, validation_data=(X_test, y_test))\n"
   ]
  },
  {
   "cell_type": "code",
   "execution_count": null,
   "metadata": {
    "collapsed": true
   },
   "outputs": [],
   "source": []
  }
 ],
 "metadata": {
  "kernelspec": {
   "display_name": "Python 2",
   "language": "python",
   "name": "python2"
  },
  "language_info": {
   "codemirror_mode": {
    "name": "ipython",
    "version": 2
   },
   "file_extension": ".py",
   "mimetype": "text/x-python",
   "name": "python",
   "nbconvert_exporter": "python",
   "pygments_lexer": "ipython2",
   "version": "2.7.10"
  }
 },
 "nbformat": 4,
 "nbformat_minor": 2
}
