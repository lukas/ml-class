{
 "cells": [
  {
   "cell_type": "markdown",
   "metadata": {},
   "source": [
    "# Evaluating Classifiers\n",
    "\n",
    "Goals:\n",
    "1. How to evaluate a machine learning model\n",
    "2. Understand overfitting\n",
    "3. Understand cross-validation\n"
   ]
  },
  {
   "cell_type": "markdown",
   "metadata": {},
   "source": [
    "## Introduction\n",
    "\n",
    "Machine learning is different than other types of engineering in that every improvement you make will typically make your model better in some cases and worse in other cases.  It's easy to make choices that seem like they should improve performance but are actually hurting things.  It's very important to not just look at individual examples, but to measure the overall performance of your algorithm at every step. \n",
    "\n",
    "Before we make any modifications to the classifier we built, we need to put in place a framework for measuring its accuracy."
   ]
  },
  {
   "cell_type": "markdown",
   "metadata": {},
   "source": [
    "## First Attempt\n",
    "\n",
    "We have 9092 labeled records.  We can try running our algorithm on that data and seeing how many it can correctly predict."
   ]
  },
  {
   "cell_type": "code",
   "execution_count": 8,
   "metadata": {},
   "outputs": [
    {
     "name": "stdout",
     "output_type": "stream",
     "text": [
      "Percent correct:  79.5094588649\n"
     ]
    }
   ],
   "source": [
    "import pandas as pd\n",
    "import numpy as np\n",
    "\n",
    "df = pd.read_csv('../scikit/tweets.csv')\n",
    "\n",
    "text = df['tweet_text']\n",
    "target = df['is_there_an_emotion_directed_at_a_brand_or_product']\n",
    "\n",
    "# Remove the blank rows:\n",
    "fixed_target = target[pd.notnull(text)]\n",
    "fixed_text = text[pd.notnull(text)]\n",
    "\n",
    "# Perform feature extraction:\n",
    "from sklearn.feature_extraction.text import CountVectorizer\n",
    "count_vect = CountVectorizer()\n",
    "count_vect.fit(fixed_text)\n",
    "counts = count_vect.transform(fixed_text)\n",
    "\n",
    "# Train with this data with a Naive Bayes classifier:\n",
    "from sklearn.naive_bayes import MultinomialNB\n",
    "nb = MultinomialNB()\n",
    "nb.fit(counts, fixed_target)\n",
    "\n",
    "predictions = nb.predict(counts)  # predictions is a list of predictions\n",
    "correct_predictions = sum(predictions == fixed_target) # correct predictions is a count \n",
    "print('Percent correct: ', 100.0 * correct_predictions / len(predictions))\n",
    "\n"
   ]
  },
  {
   "cell_type": "markdown",
   "metadata": {},
   "source": [
    "The naive bayes algorithm gets 79.5% accuracy.\n",
    "\n",
    "Does this seem like a good way to check the accuracy?  It shouldn't!  We tested our accuracy on the same data we used to fit our model.  This is what is known as testing on training data and it's a cardinal sin in machine learning.\n",
    "\n",
    "Lets try splitting our data.  We'll train a model on the first 6000 tweets and then test it on the remaining 3092 tweets.\n"
   ]
  },
  {
   "cell_type": "code",
   "execution_count": 13,
   "metadata": {},
   "outputs": [
    {
     "name": "stdout",
     "output_type": "stream",
     "text": [
      "3092\n",
      "Percent correct:  66.3971539457\n"
     ]
    }
   ],
   "source": [
    "# (Tweets 0 to 5999 are used for training data)\n",
    "nb.fit(counts[0:6000], fixed_target[0:6000])\n",
    "\n",
    "# See what the classifier predicts for some new tweets:\n",
    "# (Tweets 6000 to 9091 are used for testing)\n",
    "predictions = nb.predict(counts[6000:9092])\n",
    "print(len(predictions))\n",
    "correct_predictions = sum(predictions == fixed_target[6000:9092])\n",
    "print('Percent correct: ', 100.0 * correct_predictions / 3092)"
   ]
  },
  {
   "cell_type": "markdown",
   "metadata": {},
   "source": [
    "## Overfitting\n",
    "\n",
    "Our accuracy measurement went down a lot - from 79% to 66%.  \n",
    "\n",
    "Two important questions to ask yourself:\n",
    "1. Why is testing on training data likely to overestimate accuracy?\n",
    "2. Why didn't our algorithm get 100% accuracy?\n",
    "\n",
    "We just checked the accuracy of our algorithm on the data it was trained on.  The algorithm could have memorized every tweet and just spit back what it memorized and gotten 100% accuracy.\n",
    "\n",
    "For example, here is a model that has high accuracy on the training data and doesn't generalize well."
   ]
  },
  {
   "cell_type": "code",
   "execution_count": 11,
   "metadata": {},
   "outputs": [
    {
     "data": {
      "text/plain": [
       "[<matplotlib.lines.Line2D at 0x113504518>]"
      ]
     },
     "execution_count": 11,
     "metadata": {},
     "output_type": "execute_result"
    },
    {
     "data": {
      "image/png": "[encoded data removed]",
      "text/plain": [
       "<matplotlib.figure.Figure at 0x1135044e0>"
      ]
     },
     "metadata": {},
     "output_type": "display_data"
    }
   ],
   "source": [
    "import numpy as np\n",
    "from sklearn.gaussian_process import GaussianProcessRegressor\n",
    "from sklearn.gaussian_process.kernels import RBF, ConstantKernel as C\n",
    "from sklearn import datasets\n",
    "import matplotlib.pyplot as plt\n",
    "from matplotlib import gridspec\n",
    "%matplotlib inline\n",
    "\n",
    "boston_houses = datasets.load_boston() # Load the boston housing price dataset\n",
    "avg_rooms = boston_houses.data[:20, np.newaxis, 5] # load the average number of rooms for the first 20 records\n",
    "price = boston_houses.target[:20] # load the price for the first 20 records\n",
    "\n",
    "# initialize a model\n",
    "model = GaussianProcessRegressor(\n",
    "    kernel=C(1.0, (1e-3, 1e3)) * RBF(10, (1e-2, 1e2)),\n",
    "    normalize_y=True)\n",
    "\n",
    "# fit the model\n",
    "model.fit(avg_rooms, price)\n",
    "X = np.linspace(min(avg_rooms), max(avg_rooms), 1000).reshape(1000,1)\n",
    "preds = model.predict(X)\n",
    "\n",
    "plt.scatter(avg_rooms, price,  color='black')\n",
    "plt.plot(X, preds)\n"
   ]
  },
  {
   "cell_type": "markdown",
   "metadata": {},
   "source": [
    "This model goes through every point but wouldn't generalize well to other points.\n",
    "\n",
    "A model like that does well on the training data but doesn't generalize is doing something known as **overfitting**.\n",
    "\n",
    "Overfitting is an incredibly common problem in machine learning.  "
   ]
  },
  {
   "cell_type": "markdown",
   "metadata": {},
   "source": [
    "## Test/Train Splits \n",
    "\n",
    "We held out around 30% of our tweets to test on.  But we only have around 9000 tweets.  Two questions to ask yourself:\n",
    "\n",
    "1. Why might we get unreliable accuracy measurements if we held out 90% of our data as test data?\n",
    "2. Why might we get unreliable accuracy measurements if we held out only 1% of our data as test data?\n",
    "\n",
    "Pause for a second and think about this before reading on.  Test your understanding of the code by trying these experiments.\n",
    "\n",
    "If our held out testing set is too big our model doesn't have enough data to train on, so it will probably perform worse.  \n",
    "\n",
    "If our held out testing set is too small the measurement will be too noisy - by chance we might get a lot right or a lot wrong.  A 70/30 test train split for smaller data sets is common.  As data sets get bigger it's ok to hold out less data as a percentage."
   ]
  },
  {
   "cell_type": "markdown",
   "metadata": {},
   "source": [
    "## Cross Validation\n",
    "\n",
    "The best way to efficiently use all of our data to measure a model's accuracy is a technique called cross validation.  The way it works is we randomly shuffle our data and then divide it into say 5 equally sized chunks which we call folds.  We hold the first fold out and train on the other folds.  We measure the accuracy of our model on the first fold.  Then we hold out the second fold and train an *entirely new model* and measure its accuracy on the second fold.  We hold out each fold and check its accuracy and then we average all of the accuracies together.  \n",
    "\n",
    "I find it easier to understand with a diagram.\n",
    "\n",
    "<img src=\"images/cross-validation.png\" width=\"600\"/>\n",
    "\n",
    "It's easy to do this in code with the scikit-learn library.\n"
   ]
  },
  {
   "cell_type": "code",
   "execution_count": 24,
   "metadata": {},
   "outputs": [
    {
     "name": "stdout",
     "output_type": "stream",
     "text": [
      "Accuracy [ 0.65824176  0.63076923  0.60659341  0.60879121  0.64395604  0.68901099\n",
      "  0.70077008  0.66886689  0.65270121  0.62183021]\n",
      "Average Accuracy 0.648153102333\n"
     ]
    }
   ],
   "source": [
    "from sklearn.model_selection import cross_val_score\n",
    "\n",
    "# we pass in model, feature-vector, sentiment-labels and set the number of folds to 10\n",
    "scores = cross_val_score(nb, counts, fixed_target, cv=10)\n",
    "print(\"Accuracy\", scores)\n",
    "print(\"Average Accuracy\", scores.mean())\n"
   ]
  },
  {
   "cell_type": "markdown",
   "metadata": {},
   "source": [
    "It looks like our accuracy is closer to 65%.  Do you think this is good or bad?  \n",
    "\n",
    "## Baselines\n",
    "\n",
    "On some tasks, like predicting if the stock market will go up tomorrow or whether a roulette wheel will come up black on the next spin, a 65% accurate model might be incredibly effective and make us rich.  On other tasks like predicting if there will be an earthquake tomorrow, a 65% accurate model could be embarrasingly bad.\n",
    "\n",
    "A very important thing to consider when we evaluate the performance of our model is how well a very simple model would do.  The simplest model would just guess randomly \"No Emotion\", \"Positive\", \"Negative\" or \"Can't Tell\" and have 25% accuracy.  A slightly better model would always guess the most common sentiment.\n",
    "\n",
    "We can use scikit-learns dummy classifiers as baselines to compare against.\n"
   ]
  },
  {
   "cell_type": "code",
   "execution_count": 25,
   "metadata": {},
   "outputs": [
    {
     "name": "stdout",
     "output_type": "stream",
     "text": [
      "[ 0.59230769  0.59230769  0.59230769  0.59230769  0.59230769  0.59230769\n",
      "  0.5929593   0.5929593   0.59316428  0.59316428]\n",
      "0.592609330138\n"
     ]
    }
   ],
   "source": [
    "# Train with this data with a dummy classifier:\n",
    "from sklearn.dummy import DummyClassifier\n",
    "nb = DummyClassifier(strategy='most_frequent')\n",
    "\n",
    "from sklearn.model_selection import cross_val_score\n",
    "\n",
    "scores = cross_val_score(nb, counts, fixed_target, cv=10)\n",
    "print(scores)\n",
    "print(scores.mean())"
   ]
  },
  {
   "cell_type": "markdown",
   "metadata": {},
   "source": [
    "The dummy classifier has 59% accuracy, so our model is around six absolute percentage points better than picking the most common category!  It doesn't seem like a lot but I can't tell you the number of times I've seen models that did worse than a dummy classifier."
   ]
  },
  {
   "cell_type": "markdown",
   "metadata": {},
   "source": [
    "## Takeaways:\n",
    "1. When building a machine learning model, get to the evaluation step as quickly as possible.\n",
    "2. Always compare your model's performance against a baseline.\n",
    "3. If you don't have an infinite amount of data, use Cross-Validation to evaluate performance.\n",
    "\n",
    "## Questions\n",
    "\n",
    "1. Imagine we were trying to predict whether or not an earthquake was going to happen tomorrow - what would the baseline accuracy be?\n",
    "2. In what scenario would you want to do more folds of cross-validation?  When would you want to do less?\n",
    "3. Why was the accuray of the dummy classifier consistently 59% while the model we build had accuracy from 60-70%?"
   ]
  },
  {
   "cell_type": "code",
   "execution_count": null,
   "metadata": {},
   "outputs": [],
   "source": []
  }
 ],
 "metadata": {
  "kernelspec": {
   "display_name": "Python 3",
   "language": "python",
   "name": "python3"
  },
  "language_info": {
   "codemirror_mode": {
    "name": "ipython",
    "version": 3
   },
   "file_extension": ".py",
   "mimetype": "text/x-python",
   "name": "python",
   "nbconvert_exporter": "python",
   "pygments_lexer": "ipython3",
   "version": "3.6.1"
  }
 },
 "nbformat": 4,
 "nbformat_minor": 2
}
