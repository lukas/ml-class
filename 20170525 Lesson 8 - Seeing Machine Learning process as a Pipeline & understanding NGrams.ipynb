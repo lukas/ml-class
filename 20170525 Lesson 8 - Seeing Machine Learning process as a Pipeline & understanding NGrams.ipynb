{
 "cells": [
  {
   "cell_type": "code",
   "execution_count": null,
   "metadata": {
    "collapsed": true
   },
   "outputs": [],
   "source": [
    "import pandas as pd\n",
    "import numpy as np\n",
    "\n",
    "\n",
    "df = pd.read_csv('tweets.csv')\n",
    "target = df['is_there_an_emotion_directed_at_a_brand_or_product']\n",
    "text = df['tweet_text']\n",
    "\n",
    "fixed_text = text[pd.notnull(text)]\n",
    "fixed_target = target[pd.notnull(text)]\n",
    "\n",
    "from sklearn.feature_extraction.text import CountVectorizer\n",
    "from sklearn.naive_bayes import MultinomialNB\n",
    "from sklearn.pipeline import Pipeline\n",
    "from sklearn.model_selection import cross_val_score"
   ]
  },
  {
   "cell_type": "code",
   "execution_count": 15,
   "metadata": {},
   "outputs": [
    {
     "name": "stdout",
     "output_type": "stream",
     "text": [
      "[ 0.67472527  0.64395604  0.61538462  0.62747253  0.65604396  0.69450549\n",
      "  0.69856986  0.67656766  0.66593164  0.64939361]\n",
      "0.660255067391\n"
     ]
    }
   ],
   "source": [
    "# Pipeline 1: Does cross validation with no use of Bi-Grams\n",
    "p1 = Pipeline(steps=[('counts', CountVectorizer()),\n",
    "                ('multinomialnb', MultinomialNB())])\n",
    "\n",
    "p1.fit(fixed_text, fixed_target)\n",
    "\n",
    "from sklearn.model_selection import cross_val_score\n",
    "\n",
    "scores = cross_val_score(p1, fixed_text, fixed_target, cv=10)\n",
    "print(scores)\n",
    "print(scores.mean())"
   ]
  },
  {
   "cell_type": "code",
   "execution_count": 14,
   "metadata": {},
   "outputs": [
    {
     "name": "stdout",
     "output_type": "stream",
     "text": [
      "[ 0.68351648  0.66593407  0.65384615  0.64725275  0.68021978  0.69120879\n",
      "  0.73267327  0.70517052  0.68026461  0.64829107]\n",
      "0.678837748442\n"
     ]
    }
   ],
   "source": [
    "# Pipeline 2: Does cross validation in the pipline with a Bi-Grams\n",
    "p2 = Pipeline(steps=[('counts', CountVectorizer(ngram_range=(1, 2))),\n",
    "                ('multinomialnb', MultinomialNB())])\n",
    "\n",
    "p2.fit(fixed_text, fixed_target)\n",
    "\n",
    "from sklearn.model_selection import cross_val_score\n",
    "\n",
    "scores = cross_val_score(p2, fixed_text, fixed_target, cv=10)\n",
    "print(scores)\n",
    "print(scores.mean())\n"
   ]
  },
  {
   "cell_type": "code",
   "execution_count": 17,
   "metadata": {},
   "outputs": [
    {
     "name": "stdout",
     "output_type": "stream",
     "text": [
      "[ 0.67252747  0.66153846  0.65824176  0.65384615  0.67582418  0.66483516\n",
      "  0.71287129  0.7029703   0.66593164  0.65159868]\n",
      "0.672018509071\n"
     ]
    }
   ],
   "source": [
    "# Pipeline 3: Does cross validation in the pipline with a Bi-Grams\n",
    "p3 = Pipeline(steps=[('counts', CountVectorizer(ngram_range=(1, 4))),\n",
    "                ('multinomialnb', MultinomialNB())])\n",
    "\n",
    "p3.fit(fixed_text, fixed_target)\n",
    "\n",
    "from sklearn.model_selection import cross_val_score\n",
    "\n",
    "scores = cross_val_score(p3, fixed_text, fixed_target, cv=10)\n",
    "print(scores)\n",
    "print(scores.mean())\n"
   ]
  },
  {
   "cell_type": "code",
   "execution_count": 8,
   "metadata": {},
   "outputs": [
    {
     "name": "stdout",
     "output_type": "stream",
     "text": [
      "['Positive emotion']\n",
      "['Positive emotion']\n"
     ]
    }
   ],
   "source": [
    "print(p1.predict([\"I love my iphone!\"]))\n",
    "print(p2.predict([\"I love my iphone!\"]))\n",
    "print(p3.predict([\"I love my iphone!\"]))"
   ]
  },
  {
   "cell_type": "code",
   "execution_count": 18,
   "metadata": {},
   "outputs": [
    {
     "name": "stdout",
     "output_type": "stream",
     "text": [
      "9706\n",
      "59614\n",
      "216515\n"
     ]
    }
   ],
   "source": [
    "# See the number of words we identified in the dataset\n",
    "print(len(p1.named_steps['counts'].vocabulary_))\n",
    "print(len(p2.named_steps['counts'].vocabulary_))\n",
    "print(len(p3.named_steps['counts'].vocabulary_))"
   ]
  },
  {
   "cell_type": "code",
   "execution_count": null,
   "metadata": {
    "collapsed": true
   },
   "outputs": [],
   "source": []
  }
 ],
 "metadata": {
  "kernelspec": {
   "display_name": "Python 2",
   "language": "python",
   "name": "python2"
  },
  "language_info": {
   "codemirror_mode": {
    "name": "ipython",
    "version": 2
   },
   "file_extension": ".py",
   "mimetype": "text/x-python",
   "name": "python",
   "nbconvert_exporter": "python",
   "pygments_lexer": "ipython2",
   "version": "2.7.10"
  }
 },
 "nbformat": 4,
 "nbformat_minor": 2
}
